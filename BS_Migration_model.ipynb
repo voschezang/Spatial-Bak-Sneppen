{
 "cells": [
  {
   "cell_type": "code",
   "execution_count": 249,
   "metadata": {},
   "outputs": [],
   "source": [
    "import numpy as np\n",
    "import scipy\n",
    "import matplotlib.pyplot as plt\n",
    "import networkx as nx\n",
    "np.random.seed(123)"
   ]
  },
  {
   "cell_type": "code",
   "execution_count": 250,
   "metadata": {},
   "outputs": [],
   "source": [
    "# import networkx as nx\n",
    "\n",
    "# G=nx.Graph()\n",
    "# for i in range(10):\n",
    "#     G.add_node(i, name=i)\n",
    "#     if i != 0:\n",
    "#         edge = (i-1, i) \n",
    "#     G.add_edge(*edge)\n",
    "# G.add_edge(0, 9)\n",
    "\n",
    "# print(\"Nodes of graph: \")\n",
    "# print(G.nodes())\n",
    "# print(\"Edges of graph: \")\n",
    "# print(G.edges())"
   ]
  },
  {
   "cell_type": "code",
   "execution_count": 251,
   "metadata": {},
   "outputs": [],
   "source": [
    "# nx.draw(G)\n",
    "# plt.show() # display"
   ]
  },
  {
   "cell_type": "code",
   "execution_count": 319,
   "metadata": {},
   "outputs": [
    {
     "name": "stderr",
     "output_type": "stream",
     "text": [
      "/Library/Frameworks/Python.framework/Versions/3.7/lib/python3.7/site-packages/networkx/drawing/nx_pylab.py:611: MatplotlibDeprecationWarning: isinstance(..., numbers.Number)\n",
      "  if cb.is_numlike(alpha):\n"
     ]
    },
    {
     "data": {
      "text/plain": [
       "Text(0.5, 1.0, 'Network')"
      ]
     },
     "execution_count": 319,
     "metadata": {},
     "output_type": "execute_result"
    },
    {
     "data": {
      "image/png": "[encoded data removed]",
      "text/plain": [
       "<Figure size 432x288 with 1 Axes>"
      ]
     },
     "metadata": {},
     "output_type": "display_data"
    }
   ],
   "source": [
    "N = 5\n",
    "t_max = 100\n",
    "f = np.empty((t_max, N)) # fitness value per species per timestep\n",
    "f[0,:] = np.random.random(N)\n",
    "g = nx.erdos_renyi_graph(N, 0.01)\n",
    "\n",
    "for i in range(N):\n",
    "    g.add_node(i, name=i)\n",
    "    if i != 0:\n",
    "        edge = (i-1, i) \n",
    "    g.add_edge(*edge)\n",
    "g.add_edge(0, 4)\n",
    "\n",
    "for t in range(t_max-1):\n",
    "    i = np.argmin(f[t])\n",
    "    idx = list(g[i])\n",
    "    f[t+1] = f[t]\n",
    "    f[t+1, i] = np.random.random()\n",
    "    f[t+1, idx] = np.random.random(len(idx))\n",
    "    \n",
    "fig, ax = plt.subplots()\n",
    "nx.draw_circular(g, with_labels=True)\n",
    "ax.set_title(\"Network\")\n",
    "\n",
    "# fig, ax = plt.subplots(figsize=(5,9))\n",
    "# ax.imshow(f[:,:], cmap=\"plasma\", aspect=\"auto\")\n",
    "# ax.set_xlabel(\"Species\")\n",
    "# ax.set_ylabel(\"Time\")"
   ]
  },
  {
   "cell_type": "code",
   "execution_count": 320,
   "metadata": {},
   "outputs": [
    {
     "data": {
      "text/plain": [
       "[0, 1, 2, 3, 4]"
      ]
     },
     "execution_count": 320,
     "metadata": {},
     "output_type": "execute_result"
    }
   ],
   "source": [
    "list(g.nodes)"
   ]
  },
  {
   "cell_type": "code",
   "execution_count": 342,
   "metadata": {},
   "outputs": [],
   "source": [
    "class Site:\n",
    "    def __init__(self, i, j):\n",
    "        self.i = i\n",
    "        self.j = j\n",
    "        self.species = {}\n",
    "    \n",
    "    def add_specie(self, specie):\n",
    "        self.species[specie] = 1\n",
    "        \n",
    "    def empty_specie(self, specie):\n",
    "        self.species[specie] = 0\n",
    "        \n",
    "class Lattice:\n",
    "    def __init__(self, dimension):\n",
    "        self.dimension = dimension\n",
    "        self.sites = np.empty([dimension, dimension], dtype=object)\n",
    "        \n",
    "    def create_sites(self, g):\n",
    "        for i in range(self.dimension):\n",
    "            for j in range(self.dimension):\n",
    "                self.sites[i][j] = Site(i, j)\n",
    "                for specie in list(g.nodes):\n",
    "                    self.sites[i][j].empty_specie(specie)\n",
    "                    \n",
    "    def migration(self, migrate_candidates):\n",
    "        for c in migrate_candidates:\n",
    "            for i in range(self.dimension):\n",
    "                for j in range(self.dimension):\n",
    "                    if self.sites[i][j].species[c] == 1:\n",
    "                        if np.random.random_sample() > 0.75:\n",
    "                            nesw = np.random.random_integers(0, 3)\n",
    "                            if nesw == 0 and i < self.dimension and j < (self.dimension-1) and i > 0 and j > 0:\n",
    "                                self.sites[i][j+1].species[c] = 1\n",
    "                            if nesw == 1 and i < (self.dimension-1) and j < self.dimension and i > 0 and j > 0:\n",
    "                                self.sites[i+1][j].species[c] = 1\n",
    "                            if nesw == 2 and i < self.dimension and j < self.dimension and i > 0 and (j-1) > 0:\n",
    "                                self.sites[i][j-1].species[c] = 1\n",
    "                            if nesw == 3 and i < self.dimension and j < self.dimension and (i-1) > 0 and j > 0: \n",
    "                                self.sites[i-1][j].species[c] = 1\n",
    "                        else:\n",
    "                            self.sites[i][j].species[c] == 0\n",
    "                            \n",
    "            # TODO make function that saves lattice state for each timestep\n",
    "            \n",
    "            # TODO death function\n",
    "                          \n",
    "    def show_species(self):\n",
    "        for i in range(self.dimension):\n",
    "            for j in range(self.dimension):\n",
    "                print(i,j, self.sites[i][j].species)  \n",
    "                \n",
    "    def lattice_for_specie(self, specie):\n",
    "        specie_lattice = np.zeros([dimension, dimension])\n",
    "        for i in range(self.dimension):\n",
    "                for j in range(self.dimension):\n",
    "                    specie_lattice[i][j] = self.sites[i][j].species[specie]\n",
    "        return specie_lattice"
   ]
  },
  {
   "cell_type": "code",
   "execution_count": 343,
   "metadata": {},
   "outputs": [
    {
     "name": "stderr",
     "output_type": "stream",
     "text": [
      "/Library/Frameworks/Python.framework/Versions/3.7/lib/python3.7/site-packages/ipykernel_launcher.py:31: DeprecationWarning: This function is deprecated. Please call randint(0, 3 + 1) instead\n"
     ]
    }
   ],
   "source": [
    "dimension = 50\n",
    "l = Lattice(dimension)\n",
    "l.create_sites(g)\n",
    "for specie in list(g.nodes):\n",
    "    l.sites[int(l.dimension/2)][int(l.dimension/2)].add_specie(specie)\n",
    "    \n",
    "migrate_candidates = []\n",
    "for t in range(len(f-1)):\n",
    "    migrate_candidates.append(np.argmax(f[t]))\n",
    "\n",
    "l.migration(migrate_candidates)"
   ]
  },
  {
   "cell_type": "code",
   "execution_count": 344,
   "metadata": {
    "scrolled": true
   },
   "outputs": [],
   "source": [
    "# l.show_species()"
   ]
  },
  {
   "cell_type": "code",
   "execution_count": 345,
   "metadata": {},
   "outputs": [],
   "source": [
    "specie_lattice = l.lattice_for_specie(0)"
   ]
  },
  {
   "cell_type": "code",
   "execution_count": 346,
   "metadata": {},
   "outputs": [
    {
     "data": {
      "text/plain": [
       "<matplotlib.image.AxesImage at 0x12b037828>"
      ]
     },
     "execution_count": 346,
     "metadata": {},
     "output_type": "execute_result"
    },
    {
     "data": {
      "image/png": "[encoded data removed]",
      "text/plain": [
       "<Figure size 432x288 with 1 Axes>"
      ]
     },
     "metadata": {
      "needs_background": "light"
     },
     "output_type": "display_data"
    }
   ],
   "source": [
    "plt.imshow(specie_lattice)"
   ]
  },
  {
   "cell_type": "code",
   "execution_count": null,
   "metadata": {},
   "outputs": [],
   "source": []
  },
  {
   "cell_type": "code",
   "execution_count": null,
   "metadata": {},
   "outputs": [],
   "source": []
  }
 ],
 "metadata": {
  "kernelspec": {
   "display_name": "Python 3",
   "language": "python",
   "name": "python3"
  },
  "language_info": {
   "codemirror_mode": {
    "name": "ipython",
    "version": 3
   },
   "file_extension": ".py",
   "mimetype": "text/x-python",
   "name": "python",
   "nbconvert_exporter": "python",
   "pygments_lexer": "ipython3",
   "version": "3.7.2"
  }
 },
 "nbformat": 4,
 "nbformat_minor": 2
}
