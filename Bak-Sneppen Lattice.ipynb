{
 "cells": [
  {
   "cell_type": "code",
   "execution_count": 8,
   "metadata": {},
   "outputs": [],
   "source": [
    "import numpy as np\n",
    "import matplotlib.pyplot as plt\n",
    "import networkx as nx\n",
    "import itertools"
   ]
  },
  {
   "cell_type": "code",
   "execution_count": 296,
   "metadata": {},
   "outputs": [],
   "source": [
    "class BS:\n",
    "    def __init__(self, lattice, N, network, start_idx=0):\n",
    "        self.lattice = lattice\n",
    "        self.N = N\n",
    "        self.network = network\n",
    "        \n",
    "        # create graph\n",
    "        if network[0] == \"watts-strogatz\":\n",
    "            (_, k, p) = network\n",
    "            self.g = nx.watts_strogatz_graph(N, k, p)\n",
    "            \n",
    "            idx = start_idx\n",
    "            for node in self.g:\n",
    "                self.g.nodes[node][\"id\"] = idx\n",
    "                self.g.nodes[node][\"fitness\"] = np.random.random()\n",
    "                idx += 1\n",
    "        \n",
    "        # relabel nodes\n",
    "        self.g = nx.relabel_nodes(self.g, mapping={i: start_idx+i for i in range(N)})\n",
    "    \n",
    "    def species(self):\n",
    "        return dict(self.g.nodes.data(\"id\")).values()\n",
    "    \n",
    "    def fitness(self):\n",
    "        return self.g.nodes.data(\"fitness\")\n",
    "    \n",
    "    def min_fitness(self):\n",
    "        return min(self.fitness(), key=lambda x: x[1])\n",
    "    \n",
    "    def mutate(self):\n",
    "        (i, f) = self.min_fitness()\n",
    "        neighbours = list(self.g[i])\n",
    "        \n",
    "        # detect avalanches\n",
    "#         if t == 0:\n",
    "#             min_fitness = f[t,i]\n",
    "#             av_size = 1\n",
    "#         elif f[t,i] < min_fitness:\n",
    "#             av_size += 1\n",
    "#         else:\n",
    "#             avs.append(av_size)\n",
    "#             min_fitness = f[t,i]\n",
    "#             av_size = 1\n",
    "        \n",
    "        self.g.node[i][\"fitness\"] = np.random.random()\n",
    "        self.g.node[i][\"id\"] = self.lattice.species_idx\n",
    "        self.lattice.species_idx += 1\n",
    "        for nghbr in neighbours:\n",
    "            self.g.node[nghbr][\"fitness\"] = np.random.random()\n",
    "            self.g.node[nghbr][\"id\"] = self.lattice.species_idx\n",
    "            self.lattice.species_idx += 1\n"
   ]
  },
  {
   "cell_type": "code",
   "execution_count": 297,
   "metadata": {},
   "outputs": [],
   "source": [
    "class Lattice:\n",
    "    def __init__(self, dimensions, N, network, P):\n",
    "        self.dimensions = dimensions\n",
    "        self.N = N\n",
    "        self.P = P\n",
    "        self.node_idx = (np.prod(dimensions)+1) * N\n",
    "        self.species_idx = self.node_idx\n",
    "        \n",
    "        # create lattice\n",
    "        self.lattice = nx.grid_graph(list(dimensions), periodic=False)\n",
    "        self.lattice = nx.convert_node_labels_to_integers(self.lattice)\n",
    "        \n",
    "        # create BS network in each point of the lattice\n",
    "        for (i, point) in enumerate(self.lattice):\n",
    "            self.lattice.node[point][\"BS\"] = BS(self, N, network, start_idx=i*N)\n",
    "            \n",
    "\n",
    "    def __getitem__(self, i):\n",
    "        return self.lattice.node[i][\"BS\"]\n",
    "    \n",
    "\n",
    "    def run(self, t_max):\n",
    "        for t in range(t_max-1):\n",
    "            for point in self.lattice:\n",
    "                bs = self[point]\n",
    "                bs.mutate()\n",
    "\n",
    "                # migration\n",
    "                if np.random.random() < self.P:\n",
    "                    lattice_neighbours = self.lattice[point]\n",
    "                    migrate_to = np.random.choice(lattice_neighbours)\n",
    "                    bs_target = self[migrate_to]\n",
    "                    \n",
    "                    # TODO: find species which is not in bs_target\n",
    "                    migrator = np.random.choice(bs.g.nodes)\n",
    "\n",
    "#                     print()\n",
    "#                     print(bs_target.g.nodes)\n",
    "                    n1 = np.random.choice(bs_target.g.nodes)\n",
    "#                     print(n1)\n",
    "#                     print(bs_target.g[n1])\n",
    "                    n2 = np.random.choice(list(bs_target.g[n1]))\n",
    "\n",
    "                    # TODO: werkt nu alleen voor ring networks\n",
    "                    bs_target.g.add_node(self.node_idx, **bs.g.node[migrator])\n",
    "                    bs_target.g.remove_edge(n1, n2)\n",
    "                    bs_target.g.add_edge(n1, self.node_idx)\n",
    "                    bs_target.g.add_edge(n2, self.node_idx)\n",
    "                    self.node_idx += 1\n",
    "\n",
    "                # extinction\n",
    "                if np.random.random() < self.P:\n",
    "#                     print(\"extinc\", bs.g.nodes)\n",
    "                    x = np.random.choice(list(bs.g.nodes))\n",
    "\n",
    "                    neighbours = list(bs.g[x])\n",
    "                    edges = list(itertools.combinations(neighbours, 2))\n",
    "\n",
    "                    bs.g.remove_node(x)\n",
    "                    bs.g.add_edges_from(edges)\n",
    "    \n",
    "    def draw(self):\n",
    "        nx.draw(self.lattice, with_labels=True)"
   ]
  },
  {
   "cell_type": "code",
   "execution_count": 298,
   "metadata": {},
   "outputs": [],
   "source": [
    "l = Lattice((4,4), 100, (\"watts-strogatz\", 3, 0), 0.01)\n",
    "\n",
    "l.run(1000)"
   ]
  },
  {
   "cell_type": "code",
   "execution_count": 299,
   "metadata": {},
   "outputs": [
    {
     "data": {
      "text/plain": [
       "dict_values([22560, 31392, 31680, 32112, 32256, 32255, 32257, 38641, 38736, 38735, 38737, 37057, 37728, 37872, 37920, 37919, 37921, 37585, 10081, 32735, 32736, 20976, 20975, 20977, 39936, 39935, 40896, 41040, 41280, 41279, 41281, 39455, 39457, 9408, 9456, 11520, 18432, 18528, 18527, 12816, 13008, 13007, 13009, 12959, 12961, 946, 947, 948, 20304, 20303, 20305, 10704, 34464, 44928, 45360, 45359, 45984, 49632, 49633, 49584, 48864, 48863, 49488, 49536, 49535, 49537, 49391, 49393, 48575, 48577, 48529, 48480, 12480, 12479, 12481, 978, 4032, 16176, 16175, 23328, 23327, 25680, 25679, 25681, 25248, 25536, 25584, 33841, 33839, 33648, 33599, 33601, 33313, 33217, 32881, 22849, 38401, 25920, 6526, 38689, 33840, 33744, 32737, 10381, 37105, 22604, 11965, 24133, 38593, 31299, 49631, 41571, 30100])"
      ]
     },
     "execution_count": 299,
     "metadata": {},
     "output_type": "execute_result"
    }
   ],
   "source": [
    "l[9].species()"
   ]
  },
  {
   "cell_type": "code",
   "execution_count": 288,
   "metadata": {},
   "outputs": [
    {
     "data": {
      "text/plain": [
       "(932, 0.07728991500872207)"
      ]
     },
     "execution_count": 288,
     "metadata": {},
     "output_type": "execute_result"
    }
   ],
   "source": [
    "min(l[9].spe(), key=lambda x: x[1])"
   ]
  },
  {
   "cell_type": "code",
   "execution_count": 44,
   "metadata": {},
   "outputs": [
    {
     "data": {
      "image/png": "[encoded data removed]",
      "text/plain": [
       "<Figure size 432x288 with 1 Axes>"
      ]
     },
     "metadata": {},
     "output_type": "display_data"
    }
   ],
   "source": [
    "N_lattice = 4\n",
    "N_species = 100\n",
    "t_max = 10000\n",
    "P_migration = 0.01\n",
    "\n",
    "g = nx.grid_graph([N_lattice, N_lattice], periodic=False)\n",
    "g = nx.convert_node_labels_to_integers(g)\n",
    "\n",
    "fig, ax = plt.subplots()\n",
    "nx.draw(g, with_labels=True)\n",
    "\n",
    "# create BS networks\n",
    "idx_node = 0\n",
    "idx = 0\n",
    "for node in g.nodes():\n",
    "    g_species = nx.watts_strogatz_graph(N_species, 3, 0)\n",
    "    \n",
    "    for species in g_species:\n",
    "        g_species.node[species][\"id\"] = idx\n",
    "        g_species.node[species][\"fitness\"] = np.random.random()\n",
    "        idx += 1\n",
    "        \n",
    "    g.nodes[node][\"BS\"] = nx.relabel_nodes(g_species, mapping={i: idx_node+i for i in range(N_species)})\n",
    "    idx_node += N_species\n",
    "    \n",
    "\n",
    "    \n",
    "# perform Bak-Sneppen\n",
    "for t in range(t_max-1):\n",
    "        \n",
    "    for node in g.nodes():\n",
    "        lattice_neighbours = list(g[node])    \n",
    "   \n",
    "        bs = g.node[node][\"BS\"]\n",
    "        fs = nx.get_node_attributes(bs, \"fitness\").values()\n",
    "        \n",
    "        i = np.argmin(list(fs))\n",
    "        i = list(nx.get_node_attributes(bs, \"fitness\").keys())[i]\n",
    "        nghbrs = list(bs[i])\n",
    "        \n",
    "#         if t == 0:\n",
    "#             min_fitness = f[t,i]\n",
    "#             av_size = 1\n",
    "#         elif f[t,i] < min_fitness:\n",
    "#             av_size += 1\n",
    "#         else:\n",
    "#             avs.append(av_size)\n",
    "#             min_fitness = f[t,i]\n",
    "#             av_size = 1\n",
    "\n",
    "        bs.node[i][\"id\"] = idx\n",
    "        idx += 1\n",
    "        bs.node[i][\"fitness\"] = np.random.random()\n",
    "        for nghbr in nghbrs:\n",
    "            bs.node[nghbr][\"fitness\"] = np.random.random()\n",
    "            bs.node[nghbr][\"id\"] = idx\n",
    "            idx += 1\n",
    "            \n",
    "            \n",
    "#         age[t+1] = age[t] + 1\n",
    "#         age[t+1, i] = 0\n",
    "#         age[t+1, idx] = 0\n",
    "\n",
    "        # migration\n",
    "        if np.random.random() < P_migration:\n",
    "            migrator = np.random.choice(bs.nodes)\n",
    "\n",
    "            migrate_to = np.random.choice(lattice_neighbours)\n",
    "            target = g.node[migrate_to][\"BS\"]\n",
    "            \n",
    "            n1 = np.random.choice(target.nodes)\n",
    "            n2 = np.random.choice(list(target[n1]))\n",
    "            \n",
    "            target.add_node(idx_node, attr=bs.node[migrator])\n",
    "            target.remove_edge(n1, n2)\n",
    "            target.add_edge(n1, idx_node)\n",
    "            target.add_edge(n2, idx_node)\n",
    "            idx_node += 1\n",
    "            \n",
    "        # extinction\n",
    "        if np.random.random() < P_migration:\n",
    "            x = np.random.choice(bs.nodes)\n",
    "            \n",
    "            nghbrs = list(bs[x])\n",
    "            edges = list(itertools.combinations(nghbrs, 2))\n",
    "            \n",
    "            bs.remove_node(x)\n",
    "            bs.add_edges_from(edges)"
   ]
  },
  {
   "cell_type": "code",
   "execution_count": 46,
   "metadata": {},
   "outputs": [
    {
     "data": {
      "text/plain": [
       "NodeView((6, 7, 8, 12, 17, 20, 22, 24, 26, 28, 33, 36, 39, 44, 48, 64, 66, 70, 71, 73, 87, 94, 95, 97, 98, 1678, 1792, 1894, 1907, 1926, 2153, 2186, 2197, 2296, 2353, 2368, 2419, 2496, 2502, 2507, 2536, 2567, 2618, 2625, 2660, 2670, 2675, 2792, 2840, 2858, 2881, 2913, 2914, 3034, 3089, 3103, 3125, 3151))"
      ]
     },
     "execution_count": 46,
     "metadata": {},
     "output_type": "execute_result"
    }
   ],
   "source": [
    "g.node[0][\"BS\"].nodes"
   ]
  },
  {
   "cell_type": "code",
   "execution_count": 45,
   "metadata": {
    "scrolled": true
   },
   "outputs": [
    {
     "data": {
      "image/png": "[encoded data removed]",
      "text/plain": [
       "<Figure size 432x288 with 1 Axes>"
      ]
     },
     "metadata": {},
     "output_type": "display_data"
    }
   ],
   "source": [
    "nx.draw(g.node[3][\"BS\"])"
   ]
  },
  {
   "cell_type": "code",
   "execution_count": 47,
   "metadata": {},
   "outputs": [
    {
     "name": "stdout",
     "output_type": "stream",
     "text": [
      "[58, 103, 91, 97, 126, 121, 120, 131, 114, 106, 120, 107, 67, 115, 93, 64]\n",
      "102.0625\n"
     ]
    }
   ],
   "source": [
    "nr_species = [len(g.node[i][\"BS\"].nodes) for i in g.nodes()]\n",
    "print(nr_species)\n",
    "print(np.mean(nr_species))"
   ]
  },
  {
   "cell_type": "code",
   "execution_count": 94,
   "metadata": {},
   "outputs": [
    {
     "data": {
      "text/plain": [
       "9"
      ]
     },
     "execution_count": 94,
     "metadata": {},
     "output_type": "execute_result"
    }
   ],
   "source": [
    "np.argmin(list(nx.get_node_attributes(g.node[1][\"BS\"], \"fitness\").values()))"
   ]
  },
  {
   "cell_type": "code",
   "execution_count": 28,
   "metadata": {},
   "outputs": [
    {
     "data": {
      "image/png": "[encoded data removed]",
      "text/plain": [
       "<Figure size 432x288 with 1 Axes>"
      ]
     },
     "metadata": {},
     "output_type": "display_data"
    }
   ],
   "source": [
    "nx.draw(g.nodes[0][\"BS\"])"
   ]
  },
  {
   "cell_type": "code",
   "execution_count": 187,
   "metadata": {},
   "outputs": [
    {
     "name": "stdout",
     "output_type": "stream",
     "text": [
      "{'fitness': 1}\n"
     ]
    },
    {
     "data": {
      "image/png": "[encoded data removed]",
      "text/plain": [
       "<Figure size 432x288 with 1 Axes>"
      ]
     },
     "metadata": {},
     "output_type": "display_data"
    }
   ],
   "source": [
    "g = nx.Graph()\n",
    "g.add_node(1)\n",
    "g.node[1][\"fitness\"] = 1\n",
    "g.add_node(2, **{\"fitness\": 2})\n",
    "g.add_edge(1,2)\n",
    "nx.draw(g)\n",
    "print(g.node[1])"
   ]
  },
  {
   "cell_type": "code",
   "execution_count": 189,
   "metadata": {
    "scrolled": true
   },
   "outputs": [
    {
     "data": {
      "image/png": "[encoded data removed]",
      "text/plain": [
       "<Figure size 432x288 with 1 Axes>"
      ]
     },
     "metadata": {},
     "output_type": "display_data"
    }
   ],
   "source": [
    "g.add_node(3, attr=g.node[1])\n",
    "nx.draw(g)"
   ]
  },
  {
   "cell_type": "code",
   "execution_count": 190,
   "metadata": {},
   "outputs": [
    {
     "data": {
      "text/plain": [
       "NodeDataView({1: {'fitness': 1}, 2: {'fitness': 2}, 3: {'attr': {'fitness': 1}}})"
      ]
     },
     "execution_count": 190,
     "metadata": {},
     "output_type": "execute_result"
    }
   ],
   "source": [
    "g.nodes.data()"
   ]
  },
  {
   "cell_type": "code",
   "execution_count": null,
   "metadata": {},
   "outputs": [],
   "source": []
  }
 ],
 "metadata": {
  "kernelspec": {
   "display_name": "Python 3",
   "language": "python",
   "name": "python3"
  },
  "language_info": {
   "codemirror_mode": {
    "name": "ipython",
    "version": 3
   },
   "file_extension": ".py",
   "mimetype": "text/x-python",
   "name": "python",
   "nbconvert_exporter": "python",
   "pygments_lexer": "ipython3",
   "version": "3.7.1"
  }
 },
 "nbformat": 4,
 "nbformat_minor": 2
}
